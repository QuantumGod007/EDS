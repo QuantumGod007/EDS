{
  "nbformat": 4,
  "nbformat_minor": 0,
  "metadata": {
    "colab": {
      "provenance": []
    },
    "kernelspec": {
      "name": "python3",
      "display_name": "Python 3"
    },
    "language_info": {
      "name": "python"
    }
  },
  "cells": [
    {
      "cell_type": "code",
      "execution_count": 65,
      "metadata": {
        "id": "u8GYBj4qIL-R"
      },
      "outputs": [],
      "source": [
        "import pandas as pd\n",
        "import numpy as np"
      ]
    },
    {
      "cell_type": "code",
      "source": [
        "df= pd.read_csv(\"/content/enronClean.csv\")\n",
        "df['TIMESTAMP'] = pd.to_datetime(df['TIMESTAMP'])"
      ],
      "metadata": {
        "colab": {
          "base_uri": "https://localhost:8080/",
          "height": 0
        },
        "id": "5eYZiJu1LxCR",
        "outputId": "01f0739a-f8ee-468b-84d3-d7726409a212"
      },
      "execution_count": 26,
      "outputs": [
        {
          "output_type": "stream",
          "name": "stderr",
          "text": [
            "<ipython-input-26-309f00bd5bad>:2: FutureWarning: In a future version of pandas, parsing datetimes with mixed time zones will raise an error unless `utc=True`. Please specify `utc=True` to opt in to the new behaviour and silence this warning. To create a `Series` with mixed offsets and `object` dtype, please use `apply` and `datetime.datetime.strptime`\n",
            "  df['TIMESTAMP'] = pd.to_datetime(df['TIMESTAMP'])\n"
          ]
        }
      ]
    },
    {
      "cell_type": "code",
      "source": [
        "df['TIMESTAMP'] = pd.to_datetime(df['TIMESTAMP'], errors='coerce')\n"
      ],
      "metadata": {
        "id": "fChjoB06gKox"
      },
      "execution_count": 37,
      "outputs": []
    },
    {
      "cell_type": "code",
      "source": [
        "df.shape[0]\n",
        "#1"
      ],
      "metadata": {
        "colab": {
          "base_uri": "https://localhost:8080/",
          "height": 0
        },
        "id": "PEPdy6FeghX-",
        "outputId": "ccb41764-5a14-427c-ef52-3a97c31a3ad6"
      },
      "execution_count": 40,
      "outputs": [
        {
          "output_type": "execute_result",
          "data": {
            "text/plain": [
              "526390"
            ]
          },
          "metadata": {},
          "execution_count": 40
        }
      ]
    },
    {
      "cell_type": "code",
      "source": [
        "df['FROM'].nunique()\n",
        "#2"
      ],
      "metadata": {
        "colab": {
          "base_uri": "https://localhost:8080/",
          "height": 0
        },
        "id": "o2ApeFsbglO3",
        "outputId": "edc92aa0-7f77-46ad-b4d1-12c71957b0b8"
      },
      "execution_count": 41,
      "outputs": [
        {
          "output_type": "execute_result",
          "data": {
            "text/plain": [
              "7533"
            ]
          },
          "metadata": {},
          "execution_count": 41
        }
      ]
    },
    {
      "cell_type": "code",
      "source": [
        "df['FROM'].value_counts().head(5)\n",
        "#3"
      ],
      "metadata": {
        "colab": {
          "base_uri": "https://localhost:8080/",
          "height": 272
        },
        "id": "IXl03sEbgoKq",
        "outputId": "8fa2ad8f-92bf-44fd-fcdc-f749c105da27"
      },
      "execution_count": 42,
      "outputs": [
        {
          "output_type": "execute_result",
          "data": {
            "text/plain": [
              "FROM\n",
              "jae.black@enron.com            48966\n",
              "veronica.espinoza@enron.com    31576\n",
              "pete.davis@enron.com           23016\n",
              "technology.enron@enron.com     21716\n",
              "l..denton@enron.com            11555\n",
              "Name: count, dtype: int64"
            ],
            "text/html": [
              "<div>\n",
              "<style scoped>\n",
              "    .dataframe tbody tr th:only-of-type {\n",
              "        vertical-align: middle;\n",
              "    }\n",
              "\n",
              "    .dataframe tbody tr th {\n",
              "        vertical-align: top;\n",
              "    }\n",
              "\n",
              "    .dataframe thead th {\n",
              "        text-align: right;\n",
              "    }\n",
              "</style>\n",
              "<table border=\"1\" class=\"dataframe\">\n",
              "  <thead>\n",
              "    <tr style=\"text-align: right;\">\n",
              "      <th></th>\n",
              "      <th>count</th>\n",
              "    </tr>\n",
              "    <tr>\n",
              "      <th>FROM</th>\n",
              "      <th></th>\n",
              "    </tr>\n",
              "  </thead>\n",
              "  <tbody>\n",
              "    <tr>\n",
              "      <th>jae.black@enron.com</th>\n",
              "      <td>48966</td>\n",
              "    </tr>\n",
              "    <tr>\n",
              "      <th>veronica.espinoza@enron.com</th>\n",
              "      <td>31576</td>\n",
              "    </tr>\n",
              "    <tr>\n",
              "      <th>pete.davis@enron.com</th>\n",
              "      <td>23016</td>\n",
              "    </tr>\n",
              "    <tr>\n",
              "      <th>technology.enron@enron.com</th>\n",
              "      <td>21716</td>\n",
              "    </tr>\n",
              "    <tr>\n",
              "      <th>l..denton@enron.com</th>\n",
              "      <td>11555</td>\n",
              "    </tr>\n",
              "  </tbody>\n",
              "</table>\n",
              "</div><br><label><b>dtype:</b> int64</label>"
            ]
          },
          "metadata": {},
          "execution_count": 42
        }
      ]
    },
    {
      "cell_type": "code",
      "source": [
        "df['TYPE'].value_counts()\n",
        "#4"
      ],
      "metadata": {
        "colab": {
          "base_uri": "https://localhost:8080/",
          "height": 304
        },
        "id": "0gdKokchgrIO",
        "outputId": "2599b6d8-d52f-4408-fc90-314913f5486f"
      },
      "execution_count": 43,
      "outputs": [
        {
          "output_type": "execute_result",
          "data": {
            "text/plain": [
              "TYPE\n",
              "TO      407500\n",
              "BCC      60370\n",
              "CC       58447\n",
              "TO\"         52\n",
              "BCC\"        14\n",
              "CC\"          7\n",
              "Name: count, dtype: int64"
            ],
            "text/html": [
              "<div>\n",
              "<style scoped>\n",
              "    .dataframe tbody tr th:only-of-type {\n",
              "        vertical-align: middle;\n",
              "    }\n",
              "\n",
              "    .dataframe tbody tr th {\n",
              "        vertical-align: top;\n",
              "    }\n",
              "\n",
              "    .dataframe thead th {\n",
              "        text-align: right;\n",
              "    }\n",
              "</style>\n",
              "<table border=\"1\" class=\"dataframe\">\n",
              "  <thead>\n",
              "    <tr style=\"text-align: right;\">\n",
              "      <th></th>\n",
              "      <th>count</th>\n",
              "    </tr>\n",
              "    <tr>\n",
              "      <th>TYPE</th>\n",
              "      <th></th>\n",
              "    </tr>\n",
              "  </thead>\n",
              "  <tbody>\n",
              "    <tr>\n",
              "      <th>TO</th>\n",
              "      <td>407500</td>\n",
              "    </tr>\n",
              "    <tr>\n",
              "      <th>BCC</th>\n",
              "      <td>60370</td>\n",
              "    </tr>\n",
              "    <tr>\n",
              "      <th>CC</th>\n",
              "      <td>58447</td>\n",
              "    </tr>\n",
              "    <tr>\n",
              "      <th>TO\"</th>\n",
              "      <td>52</td>\n",
              "    </tr>\n",
              "    <tr>\n",
              "      <th>BCC\"</th>\n",
              "      <td>14</td>\n",
              "    </tr>\n",
              "    <tr>\n",
              "      <th>CC\"</th>\n",
              "      <td>7</td>\n",
              "    </tr>\n",
              "  </tbody>\n",
              "</table>\n",
              "</div><br><label><b>dtype:</b> int64</label>"
            ]
          },
          "metadata": {},
          "execution_count": 43
        }
      ]
    },
    {
      "cell_type": "code",
      "source": [
        "df.groupby(df['TIMESTAMP'].dt.date).size()\n",
        "#5"
      ],
      "metadata": {
        "colab": {
          "base_uri": "https://localhost:8080/",
          "height": 1025
        },
        "id": "M_1drIgoguYS",
        "outputId": "52e88f34-d069-42ed-e2d5-e9de8329ddc3"
      },
      "execution_count": 44,
      "outputs": [
        {
          "output_type": "execute_result",
          "data": {
            "text/plain": [
              "TIMESTAMP\n",
              "2001-09-30      461\n",
              "2001-10-01     6406\n",
              "2001-10-02     3623\n",
              "2001-10-03     2679\n",
              "2001-10-04     3287\n",
              "2001-10-05     6324\n",
              "2001-10-06      678\n",
              "2001-10-07      757\n",
              "2001-10-08     6856\n",
              "2001-10-09     5340\n",
              "2001-10-10     6324\n",
              "2001-10-11     5825\n",
              "2001-10-12     8905\n",
              "2001-10-13      741\n",
              "2001-10-14     1234\n",
              "2001-10-15    12216\n",
              "2001-10-16     9515\n",
              "2001-10-17    18603\n",
              "2001-10-18    23934\n",
              "2001-10-19    13861\n",
              "2001-10-20      910\n",
              "2001-10-21     1078\n",
              "2001-10-22    23839\n",
              "2001-10-23    19237\n",
              "2001-10-24    16853\n",
              "2001-10-25    14609\n",
              "2001-10-26    12581\n",
              "2001-10-27     1022\n",
              "2001-10-28       30\n",
              "dtype: int64"
            ],
            "text/html": [
              "<div>\n",
              "<style scoped>\n",
              "    .dataframe tbody tr th:only-of-type {\n",
              "        vertical-align: middle;\n",
              "    }\n",
              "\n",
              "    .dataframe tbody tr th {\n",
              "        vertical-align: top;\n",
              "    }\n",
              "\n",
              "    .dataframe thead th {\n",
              "        text-align: right;\n",
              "    }\n",
              "</style>\n",
              "<table border=\"1\" class=\"dataframe\">\n",
              "  <thead>\n",
              "    <tr style=\"text-align: right;\">\n",
              "      <th></th>\n",
              "      <th>0</th>\n",
              "    </tr>\n",
              "    <tr>\n",
              "      <th>TIMESTAMP</th>\n",
              "      <th></th>\n",
              "    </tr>\n",
              "  </thead>\n",
              "  <tbody>\n",
              "    <tr>\n",
              "      <th>2001-09-30</th>\n",
              "      <td>461</td>\n",
              "    </tr>\n",
              "    <tr>\n",
              "      <th>2001-10-01</th>\n",
              "      <td>6406</td>\n",
              "    </tr>\n",
              "    <tr>\n",
              "      <th>2001-10-02</th>\n",
              "      <td>3623</td>\n",
              "    </tr>\n",
              "    <tr>\n",
              "      <th>2001-10-03</th>\n",
              "      <td>2679</td>\n",
              "    </tr>\n",
              "    <tr>\n",
              "      <th>2001-10-04</th>\n",
              "      <td>3287</td>\n",
              "    </tr>\n",
              "    <tr>\n",
              "      <th>2001-10-05</th>\n",
              "      <td>6324</td>\n",
              "    </tr>\n",
              "    <tr>\n",
              "      <th>2001-10-06</th>\n",
              "      <td>678</td>\n",
              "    </tr>\n",
              "    <tr>\n",
              "      <th>2001-10-07</th>\n",
              "      <td>757</td>\n",
              "    </tr>\n",
              "    <tr>\n",
              "      <th>2001-10-08</th>\n",
              "      <td>6856</td>\n",
              "    </tr>\n",
              "    <tr>\n",
              "      <th>2001-10-09</th>\n",
              "      <td>5340</td>\n",
              "    </tr>\n",
              "    <tr>\n",
              "      <th>2001-10-10</th>\n",
              "      <td>6324</td>\n",
              "    </tr>\n",
              "    <tr>\n",
              "      <th>2001-10-11</th>\n",
              "      <td>5825</td>\n",
              "    </tr>\n",
              "    <tr>\n",
              "      <th>2001-10-12</th>\n",
              "      <td>8905</td>\n",
              "    </tr>\n",
              "    <tr>\n",
              "      <th>2001-10-13</th>\n",
              "      <td>741</td>\n",
              "    </tr>\n",
              "    <tr>\n",
              "      <th>2001-10-14</th>\n",
              "      <td>1234</td>\n",
              "    </tr>\n",
              "    <tr>\n",
              "      <th>2001-10-15</th>\n",
              "      <td>12216</td>\n",
              "    </tr>\n",
              "    <tr>\n",
              "      <th>2001-10-16</th>\n",
              "      <td>9515</td>\n",
              "    </tr>\n",
              "    <tr>\n",
              "      <th>2001-10-17</th>\n",
              "      <td>18603</td>\n",
              "    </tr>\n",
              "    <tr>\n",
              "      <th>2001-10-18</th>\n",
              "      <td>23934</td>\n",
              "    </tr>\n",
              "    <tr>\n",
              "      <th>2001-10-19</th>\n",
              "      <td>13861</td>\n",
              "    </tr>\n",
              "    <tr>\n",
              "      <th>2001-10-20</th>\n",
              "      <td>910</td>\n",
              "    </tr>\n",
              "    <tr>\n",
              "      <th>2001-10-21</th>\n",
              "      <td>1078</td>\n",
              "    </tr>\n",
              "    <tr>\n",
              "      <th>2001-10-22</th>\n",
              "      <td>23839</td>\n",
              "    </tr>\n",
              "    <tr>\n",
              "      <th>2001-10-23</th>\n",
              "      <td>19237</td>\n",
              "    </tr>\n",
              "    <tr>\n",
              "      <th>2001-10-24</th>\n",
              "      <td>16853</td>\n",
              "    </tr>\n",
              "    <tr>\n",
              "      <th>2001-10-25</th>\n",
              "      <td>14609</td>\n",
              "    </tr>\n",
              "    <tr>\n",
              "      <th>2001-10-26</th>\n",
              "      <td>12581</td>\n",
              "    </tr>\n",
              "    <tr>\n",
              "      <th>2001-10-27</th>\n",
              "      <td>1022</td>\n",
              "    </tr>\n",
              "    <tr>\n",
              "      <th>2001-10-28</th>\n",
              "      <td>30</td>\n",
              "    </tr>\n",
              "  </tbody>\n",
              "</table>\n",
              "</div><br><label><b>dtype:</b> int64</label>"
            ]
          },
          "metadata": {},
          "execution_count": 44
        }
      ]
    },
    {
      "cell_type": "code",
      "source": [
        "df.groupby(df['TIMESTAMP'].dt.date).size().mean()\n",
        "#6"
      ],
      "metadata": {
        "colab": {
          "base_uri": "https://localhost:8080/",
          "height": 0
        },
        "id": "Z2Zu6dfSgyB7",
        "outputId": "26b4d5e8-f6ae-4c56-c7c8-d8325b4d147b"
      },
      "execution_count": 45,
      "outputs": [
        {
          "output_type": "execute_result",
          "data": {
            "text/plain": [
              "np.float64(7852.689655172414)"
            ]
          },
          "metadata": {},
          "execution_count": 45
        }
      ]
    },
    {
      "cell_type": "code",
      "source": [
        "df['SUBJECT'].value_counts()[df['SUBJECT'].value_counts() > 1]\n",
        "#7"
      ],
      "metadata": {
        "colab": {
          "base_uri": "https://localhost:8080/",
          "height": 490
        },
        "id": "Lt0GrYghg2lS",
        "outputId": "59e912e0-ae22-40e2-8e48-dc71a7d6645a"
      },
      "execution_count": 46,
      "outputs": [
        {
          "output_type": "execute_result",
          "data": {
            "text/plain": [
              "SUBJECT\n",
              "\"Enron Center South Technology Watch\"                                    21716\n",
              "\"Credit Watch List--Week of 11/19/01\"                                     7680\n",
              "\"\"                                                                        7384\n",
              "\"Credit Watch List--Week of 10/29/01\"                                     7104\n",
              "\"Credit Watch List--Week of 10/22/01\"                                     6460\n",
              "                                                                         ...  \n",
              "\"Enron and Prediction Company\"                                               2\n",
              "\"FW: REGT Capacity Report Thursday November 8\"                               2\n",
              "\"exp dates\"                                                                  2\n",
              "\"FW: Commodities Futures and Swaps Contracts: Set-Off and Bankruptcy\"        2\n",
              "\"NYISO - Holiday Office Hours\"                                               2\n",
              "Name: count, Length: 19716, dtype: int64"
            ],
            "text/html": [
              "<div>\n",
              "<style scoped>\n",
              "    .dataframe tbody tr th:only-of-type {\n",
              "        vertical-align: middle;\n",
              "    }\n",
              "\n",
              "    .dataframe tbody tr th {\n",
              "        vertical-align: top;\n",
              "    }\n",
              "\n",
              "    .dataframe thead th {\n",
              "        text-align: right;\n",
              "    }\n",
              "</style>\n",
              "<table border=\"1\" class=\"dataframe\">\n",
              "  <thead>\n",
              "    <tr style=\"text-align: right;\">\n",
              "      <th></th>\n",
              "      <th>count</th>\n",
              "    </tr>\n",
              "    <tr>\n",
              "      <th>SUBJECT</th>\n",
              "      <th></th>\n",
              "    </tr>\n",
              "  </thead>\n",
              "  <tbody>\n",
              "    <tr>\n",
              "      <th>\"Enron Center South Technology Watch\"</th>\n",
              "      <td>21716</td>\n",
              "    </tr>\n",
              "    <tr>\n",
              "      <th>\"Credit Watch List--Week of 11/19/01\"</th>\n",
              "      <td>7680</td>\n",
              "    </tr>\n",
              "    <tr>\n",
              "      <th>\"\"</th>\n",
              "      <td>7384</td>\n",
              "    </tr>\n",
              "    <tr>\n",
              "      <th>\"Credit Watch List--Week of 10/29/01\"</th>\n",
              "      <td>7104</td>\n",
              "    </tr>\n",
              "    <tr>\n",
              "      <th>\"Credit Watch List--Week of 10/22/01\"</th>\n",
              "      <td>6460</td>\n",
              "    </tr>\n",
              "    <tr>\n",
              "      <th>...</th>\n",
              "      <td>...</td>\n",
              "    </tr>\n",
              "    <tr>\n",
              "      <th>\"Enron and Prediction Company\"</th>\n",
              "      <td>2</td>\n",
              "    </tr>\n",
              "    <tr>\n",
              "      <th>\"FW: REGT Capacity Report Thursday November 8\"</th>\n",
              "      <td>2</td>\n",
              "    </tr>\n",
              "    <tr>\n",
              "      <th>\"exp dates\"</th>\n",
              "      <td>2</td>\n",
              "    </tr>\n",
              "    <tr>\n",
              "      <th>\"FW: Commodities Futures and Swaps Contracts: Set-Off and Bankruptcy\"</th>\n",
              "      <td>2</td>\n",
              "    </tr>\n",
              "    <tr>\n",
              "      <th>\"NYISO - Holiday Office Hours\"</th>\n",
              "      <td>2</td>\n",
              "    </tr>\n",
              "  </tbody>\n",
              "</table>\n",
              "<p>19716 rows × 1 columns</p>\n",
              "</div><br><label><b>dtype:</b> int64</label>"
            ]
          },
          "metadata": {},
          "execution_count": 46
        }
      ]
    },
    {
      "cell_type": "code",
      "source": [
        "df[df['TO'].str.contains(',', na=False)].shape[0]\n",
        "#8"
      ],
      "metadata": {
        "colab": {
          "base_uri": "https://localhost:8080/",
          "height": 0
        },
        "id": "pLSEBXalg6yz",
        "outputId": "24b9fe6a-8d4b-413a-bf25-ebb8fb0b1022"
      },
      "execution_count": 47,
      "outputs": [
        {
          "output_type": "execute_result",
          "data": {
            "text/plain": [
              "0"
            ]
          },
          "metadata": {},
          "execution_count": 47
        }
      ]
    },
    {
      "cell_type": "code",
      "source": [
        "df['TIMESTAMP'].dt.hour.value_counts().idxmax()\n",
        "#9"
      ],
      "metadata": {
        "colab": {
          "base_uri": "https://localhost:8080/",
          "height": 0
        },
        "id": "bOGFulEKg-0Y",
        "outputId": "550952f9-ea69-4e02-f979-18c7b66e123b"
      },
      "execution_count": 48,
      "outputs": [
        {
          "output_type": "execute_result",
          "data": {
            "text/plain": [
              "np.float64(8.0)"
            ]
          },
          "metadata": {},
          "execution_count": 48
        }
      ]
    },
    {
      "cell_type": "code",
      "source": [
        "df[df['TO'].str.contains('enron.com', na=False)]['FROM'].value_counts()\n",
        "#10"
      ],
      "metadata": {
        "colab": {
          "base_uri": "https://localhost:8080/",
          "height": 490
        },
        "id": "C6Vb3lAahBUi",
        "outputId": "b4995cbe-1987-48cb-8978-c2fcb521d7bf"
      },
      "execution_count": 49,
      "outputs": [
        {
          "output_type": "execute_result",
          "data": {
            "text/plain": [
              "FROM\n",
              "jae.black@enron.com                                      48966\n",
              "veronica.espinoza@enron.com                              31576\n",
              "pete.davis@enron.com                                     23016\n",
              "technology.enron@enron.com                               21716\n",
              "l..denton@enron.com                                      11555\n",
              "                                                         ...  \n",
              "ying_chan99@hotmail.com                                      1\n",
              "fricciuti@dceg.com                                           1\n",
              "reminder@myfamilyinc.com                                     1\n",
              "21f382737e8311a74bca1df39e574bcbd0c@tm02.com                 1\n",
              "circuitcity.com_031465@circuitcity.customer-email.com        1\n",
              "Name: count, Length: 6644, dtype: int64"
            ],
            "text/html": [
              "<div>\n",
              "<style scoped>\n",
              "    .dataframe tbody tr th:only-of-type {\n",
              "        vertical-align: middle;\n",
              "    }\n",
              "\n",
              "    .dataframe tbody tr th {\n",
              "        vertical-align: top;\n",
              "    }\n",
              "\n",
              "    .dataframe thead th {\n",
              "        text-align: right;\n",
              "    }\n",
              "</style>\n",
              "<table border=\"1\" class=\"dataframe\">\n",
              "  <thead>\n",
              "    <tr style=\"text-align: right;\">\n",
              "      <th></th>\n",
              "      <th>count</th>\n",
              "    </tr>\n",
              "    <tr>\n",
              "      <th>FROM</th>\n",
              "      <th></th>\n",
              "    </tr>\n",
              "  </thead>\n",
              "  <tbody>\n",
              "    <tr>\n",
              "      <th>jae.black@enron.com</th>\n",
              "      <td>48966</td>\n",
              "    </tr>\n",
              "    <tr>\n",
              "      <th>veronica.espinoza@enron.com</th>\n",
              "      <td>31576</td>\n",
              "    </tr>\n",
              "    <tr>\n",
              "      <th>pete.davis@enron.com</th>\n",
              "      <td>23016</td>\n",
              "    </tr>\n",
              "    <tr>\n",
              "      <th>technology.enron@enron.com</th>\n",
              "      <td>21716</td>\n",
              "    </tr>\n",
              "    <tr>\n",
              "      <th>l..denton@enron.com</th>\n",
              "      <td>11555</td>\n",
              "    </tr>\n",
              "    <tr>\n",
              "      <th>...</th>\n",
              "      <td>...</td>\n",
              "    </tr>\n",
              "    <tr>\n",
              "      <th>ying_chan99@hotmail.com</th>\n",
              "      <td>1</td>\n",
              "    </tr>\n",
              "    <tr>\n",
              "      <th>fricciuti@dceg.com</th>\n",
              "      <td>1</td>\n",
              "    </tr>\n",
              "    <tr>\n",
              "      <th>reminder@myfamilyinc.com</th>\n",
              "      <td>1</td>\n",
              "    </tr>\n",
              "    <tr>\n",
              "      <th>21f382737e8311a74bca1df39e574bcbd0c@tm02.com</th>\n",
              "      <td>1</td>\n",
              "    </tr>\n",
              "    <tr>\n",
              "      <th>circuitcity.com_031465@circuitcity.customer-email.com</th>\n",
              "      <td>1</td>\n",
              "    </tr>\n",
              "  </tbody>\n",
              "</table>\n",
              "<p>6644 rows × 1 columns</p>\n",
              "</div><br><label><b>dtype:</b> int64</label>"
            ]
          },
          "metadata": {},
          "execution_count": 49
        }
      ]
    },
    {
      "cell_type": "code",
      "source": [
        "df['TIMESTAMP'].min(), df['TIMESTAMP'].max()\n",
        "#11"
      ],
      "metadata": {
        "colab": {
          "base_uri": "https://localhost:8080/",
          "height": 0
        },
        "id": "3uid7lj4hDIZ",
        "outputId": "98b94a34-2ac0-42d6-a313-5c75b3ff9c75"
      },
      "execution_count": 50,
      "outputs": [
        {
          "output_type": "execute_result",
          "data": {
            "text/plain": [
              "(Timestamp('2001-09-30 16:19:46-0700', tz='UTC-07:00'),\n",
              " Timestamp('2001-10-28 01:55:08-0700', tz='UTC-07:00'))"
            ]
          },
          "metadata": {},
          "execution_count": 50
        }
      ]
    },
    {
      "cell_type": "code",
      "source": [
        "df['FROM'].value_counts()[df['FROM'].value_counts() > 100]\n",
        "#12"
      ],
      "metadata": {
        "colab": {
          "base_uri": "https://localhost:8080/",
          "height": 490
        },
        "id": "7MXMe_SzhDLT",
        "outputId": "62b4b295-d2c8-4906-8841-480888b6e3e2"
      },
      "execution_count": 51,
      "outputs": [
        {
          "output_type": "execute_result",
          "data": {
            "text/plain": [
              "FROM\n",
              "jae.black@enron.com                48966\n",
              "veronica.espinoza@enron.com        31576\n",
              "pete.davis@enron.com               23016\n",
              "technology.enron@enron.com         21716\n",
              "l..denton@enron.com                11555\n",
              "                                   ...  \n",
              "tom.moran@enron.com                  102\n",
              "jschilke@ix.netcom.com               102\n",
              "alumni.office@anderson.ucla.edu      102\n",
              "amanda.schultz@enron.com             101\n",
              "john.suarez@enron.com                101\n",
              "Name: count, Length: 629, dtype: int64"
            ],
            "text/html": [
              "<div>\n",
              "<style scoped>\n",
              "    .dataframe tbody tr th:only-of-type {\n",
              "        vertical-align: middle;\n",
              "    }\n",
              "\n",
              "    .dataframe tbody tr th {\n",
              "        vertical-align: top;\n",
              "    }\n",
              "\n",
              "    .dataframe thead th {\n",
              "        text-align: right;\n",
              "    }\n",
              "</style>\n",
              "<table border=\"1\" class=\"dataframe\">\n",
              "  <thead>\n",
              "    <tr style=\"text-align: right;\">\n",
              "      <th></th>\n",
              "      <th>count</th>\n",
              "    </tr>\n",
              "    <tr>\n",
              "      <th>FROM</th>\n",
              "      <th></th>\n",
              "    </tr>\n",
              "  </thead>\n",
              "  <tbody>\n",
              "    <tr>\n",
              "      <th>jae.black@enron.com</th>\n",
              "      <td>48966</td>\n",
              "    </tr>\n",
              "    <tr>\n",
              "      <th>veronica.espinoza@enron.com</th>\n",
              "      <td>31576</td>\n",
              "    </tr>\n",
              "    <tr>\n",
              "      <th>pete.davis@enron.com</th>\n",
              "      <td>23016</td>\n",
              "    </tr>\n",
              "    <tr>\n",
              "      <th>technology.enron@enron.com</th>\n",
              "      <td>21716</td>\n",
              "    </tr>\n",
              "    <tr>\n",
              "      <th>l..denton@enron.com</th>\n",
              "      <td>11555</td>\n",
              "    </tr>\n",
              "    <tr>\n",
              "      <th>...</th>\n",
              "      <td>...</td>\n",
              "    </tr>\n",
              "    <tr>\n",
              "      <th>tom.moran@enron.com</th>\n",
              "      <td>102</td>\n",
              "    </tr>\n",
              "    <tr>\n",
              "      <th>jschilke@ix.netcom.com</th>\n",
              "      <td>102</td>\n",
              "    </tr>\n",
              "    <tr>\n",
              "      <th>alumni.office@anderson.ucla.edu</th>\n",
              "      <td>102</td>\n",
              "    </tr>\n",
              "    <tr>\n",
              "      <th>amanda.schultz@enron.com</th>\n",
              "      <td>101</td>\n",
              "    </tr>\n",
              "    <tr>\n",
              "      <th>john.suarez@enron.com</th>\n",
              "      <td>101</td>\n",
              "    </tr>\n",
              "  </tbody>\n",
              "</table>\n",
              "<p>629 rows × 1 columns</p>\n",
              "</div><br><label><b>dtype:</b> int64</label>"
            ]
          },
          "metadata": {},
          "execution_count": 51
        }
      ]
    },
    {
      "cell_type": "code",
      "source": [
        "df['SUBJECT'].str.lower().str.contains('meeting', na=False).sum()\n",
        "#13"
      ],
      "metadata": {
        "colab": {
          "base_uri": "https://localhost:8080/",
          "height": 0
        },
        "id": "yQ6gXpn6hJzw",
        "outputId": "38e8c516-4451-480c-9a17-37416d3a2183"
      },
      "execution_count": 52,
      "outputs": [
        {
          "output_type": "execute_result",
          "data": {
            "text/plain": [
              "np.int64(32789)"
            ]
          },
          "metadata": {},
          "execution_count": 52
        }
      ]
    },
    {
      "cell_type": "code",
      "source": [
        "df_exploded = df.copy()\n",
        "df_exploded['TO'] = df_exploded['TO'].fillna('').str.split(',')\n",
        "df_exploded = df_exploded.explode('TO')\n",
        "df_exploded['TO'].str.strip().value_counts().head(1)\n",
        "#14"
      ],
      "metadata": {
        "colab": {
          "base_uri": "https://localhost:8080/",
          "height": 147
        },
        "id": "ODhGqhx3hQzM",
        "outputId": "25aec3c7-a248-4327-b8af-854371a5af09"
      },
      "execution_count": 53,
      "outputs": [
        {
          "output_type": "execute_result",
          "data": {
            "text/plain": [
              "TO\n",
              "pete.davis@enron.com    3301\n",
              "Name: count, dtype: int64"
            ],
            "text/html": [
              "<div>\n",
              "<style scoped>\n",
              "    .dataframe tbody tr th:only-of-type {\n",
              "        vertical-align: middle;\n",
              "    }\n",
              "\n",
              "    .dataframe tbody tr th {\n",
              "        vertical-align: top;\n",
              "    }\n",
              "\n",
              "    .dataframe thead th {\n",
              "        text-align: right;\n",
              "    }\n",
              "</style>\n",
              "<table border=\"1\" class=\"dataframe\">\n",
              "  <thead>\n",
              "    <tr style=\"text-align: right;\">\n",
              "      <th></th>\n",
              "      <th>count</th>\n",
              "    </tr>\n",
              "    <tr>\n",
              "      <th>TO</th>\n",
              "      <th></th>\n",
              "    </tr>\n",
              "  </thead>\n",
              "  <tbody>\n",
              "    <tr>\n",
              "      <th>pete.davis@enron.com</th>\n",
              "      <td>3301</td>\n",
              "    </tr>\n",
              "  </tbody>\n",
              "</table>\n",
              "</div><br><label><b>dtype:</b> int64</label>"
            ]
          },
          "metadata": {},
          "execution_count": 53
        }
      ]
    },
    {
      "cell_type": "code",
      "source": [
        "df[df['TIMESTAMP'].dt.hour.between(9, 18)].shape[0]\n",
        "#15"
      ],
      "metadata": {
        "colab": {
          "base_uri": "https://localhost:8080/",
          "height": 0
        },
        "id": "mgM3NO8-hU_s",
        "outputId": "acc28cc3-e8e7-4ff8-c243-8ffe90a83a7f"
      },
      "execution_count": 54,
      "outputs": [
        {
          "output_type": "execute_result",
          "data": {
            "text/plain": [
              "140128"
            ]
          },
          "metadata": {},
          "execution_count": 54
        }
      ]
    },
    {
      "cell_type": "code",
      "source": [
        "df.groupby(df['TIMESTAMP'].dt.date).size().nlargest(3)\n",
        "#16"
      ],
      "metadata": {
        "colab": {
          "base_uri": "https://localhost:8080/",
          "height": 210
        },
        "id": "6OCd3WfVhX4z",
        "outputId": "42effe6b-b164-4332-f98a-2486cbfd5325"
      },
      "execution_count": 55,
      "outputs": [
        {
          "output_type": "execute_result",
          "data": {
            "text/plain": [
              "TIMESTAMP\n",
              "2001-10-18    23934\n",
              "2001-10-22    23839\n",
              "2001-10-23    19237\n",
              "dtype: int64"
            ],
            "text/html": [
              "<div>\n",
              "<style scoped>\n",
              "    .dataframe tbody tr th:only-of-type {\n",
              "        vertical-align: middle;\n",
              "    }\n",
              "\n",
              "    .dataframe tbody tr th {\n",
              "        vertical-align: top;\n",
              "    }\n",
              "\n",
              "    .dataframe thead th {\n",
              "        text-align: right;\n",
              "    }\n",
              "</style>\n",
              "<table border=\"1\" class=\"dataframe\">\n",
              "  <thead>\n",
              "    <tr style=\"text-align: right;\">\n",
              "      <th></th>\n",
              "      <th>0</th>\n",
              "    </tr>\n",
              "    <tr>\n",
              "      <th>TIMESTAMP</th>\n",
              "      <th></th>\n",
              "    </tr>\n",
              "  </thead>\n",
              "  <tbody>\n",
              "    <tr>\n",
              "      <th>2001-10-18</th>\n",
              "      <td>23934</td>\n",
              "    </tr>\n",
              "    <tr>\n",
              "      <th>2001-10-22</th>\n",
              "      <td>23839</td>\n",
              "    </tr>\n",
              "    <tr>\n",
              "      <th>2001-10-23</th>\n",
              "      <td>19237</td>\n",
              "    </tr>\n",
              "  </tbody>\n",
              "</table>\n",
              "</div><br><label><b>dtype:</b> int64</label>"
            ]
          },
          "metadata": {},
          "execution_count": 55
        }
      ]
    },
    {
      "cell_type": "code",
      "source": [
        "empty_subjects = df['SUBJECT'].isna().sum() + (df['SUBJECT'] == '').sum()\n",
        "empty_subjects / len(df)\n",
        "#17"
      ],
      "metadata": {
        "colab": {
          "base_uri": "https://localhost:8080/",
          "height": 0
        },
        "id": "mErwfY9Qhasy",
        "outputId": "e977a157-b47a-4639-c2f7-e67b4a08d8bd"
      },
      "execution_count": 56,
      "outputs": [
        {
          "output_type": "execute_result",
          "data": {
            "text/plain": [
              "np.float64(0.0)"
            ]
          },
          "metadata": {},
          "execution_count": 56
        }
      ]
    },
    {
      "cell_type": "code",
      "source": [
        "df['FROM'].value_counts().mean()#18"
      ],
      "metadata": {
        "colab": {
          "base_uri": "https://localhost:8080/",
          "height": 0
        },
        "id": "OtLA4c7mhdMq",
        "outputId": "70cef4d4-c647-443c-992d-8049fc551503"
      },
      "execution_count": 57,
      "outputs": [
        {
          "output_type": "execute_result",
          "data": {
            "text/plain": [
              "np.float64(69.87787070224346)"
            ]
          },
          "metadata": {},
          "execution_count": 57
        }
      ]
    },
    {
      "cell_type": "code",
      "source": [
        "df.groupby('FROM')['SUBJECT'].nunique().sort_values(ascending=False)#19"
      ],
      "metadata": {
        "colab": {
          "base_uri": "https://localhost:8080/",
          "height": 490
        },
        "id": "x84g2xLEhf04",
        "outputId": "106324d8-5c67-497c-ae46-52b0199bb7c4"
      },
      "execution_count": 60,
      "outputs": [
        {
          "output_type": "execute_result",
          "data": {
            "text/plain": [
              "FROM\n",
              "pete.davis@enron.com          922\n",
              "d..steffes@enron.com          678\n",
              "jeff.dasovich@enron.com       496\n",
              "louise.kitchen@enron.com      431\n",
              "rod.hayslett@enron.com        391\n",
              "                             ... \n",
              "zaiontj@bp.com                  1\n",
              "zagatsurvey@news.zagat.com      1\n",
              "zack.starbird@mirant.com        1\n",
              "zachary.streight@enron.com      1\n",
              "zachary.allen@enron.com         1\n",
              "Name: SUBJECT, Length: 7533, dtype: int64"
            ],
            "text/html": [
              "<div>\n",
              "<style scoped>\n",
              "    .dataframe tbody tr th:only-of-type {\n",
              "        vertical-align: middle;\n",
              "    }\n",
              "\n",
              "    .dataframe tbody tr th {\n",
              "        vertical-align: top;\n",
              "    }\n",
              "\n",
              "    .dataframe thead th {\n",
              "        text-align: right;\n",
              "    }\n",
              "</style>\n",
              "<table border=\"1\" class=\"dataframe\">\n",
              "  <thead>\n",
              "    <tr style=\"text-align: right;\">\n",
              "      <th></th>\n",
              "      <th>SUBJECT</th>\n",
              "    </tr>\n",
              "    <tr>\n",
              "      <th>FROM</th>\n",
              "      <th></th>\n",
              "    </tr>\n",
              "  </thead>\n",
              "  <tbody>\n",
              "    <tr>\n",
              "      <th>pete.davis@enron.com</th>\n",
              "      <td>922</td>\n",
              "    </tr>\n",
              "    <tr>\n",
              "      <th>d..steffes@enron.com</th>\n",
              "      <td>678</td>\n",
              "    </tr>\n",
              "    <tr>\n",
              "      <th>jeff.dasovich@enron.com</th>\n",
              "      <td>496</td>\n",
              "    </tr>\n",
              "    <tr>\n",
              "      <th>louise.kitchen@enron.com</th>\n",
              "      <td>431</td>\n",
              "    </tr>\n",
              "    <tr>\n",
              "      <th>rod.hayslett@enron.com</th>\n",
              "      <td>391</td>\n",
              "    </tr>\n",
              "    <tr>\n",
              "      <th>...</th>\n",
              "      <td>...</td>\n",
              "    </tr>\n",
              "    <tr>\n",
              "      <th>zaiontj@bp.com</th>\n",
              "      <td>1</td>\n",
              "    </tr>\n",
              "    <tr>\n",
              "      <th>zagatsurvey@news.zagat.com</th>\n",
              "      <td>1</td>\n",
              "    </tr>\n",
              "    <tr>\n",
              "      <th>zack.starbird@mirant.com</th>\n",
              "      <td>1</td>\n",
              "    </tr>\n",
              "    <tr>\n",
              "      <th>zachary.streight@enron.com</th>\n",
              "      <td>1</td>\n",
              "    </tr>\n",
              "    <tr>\n",
              "      <th>zachary.allen@enron.com</th>\n",
              "      <td>1</td>\n",
              "    </tr>\n",
              "  </tbody>\n",
              "</table>\n",
              "<p>7533 rows × 1 columns</p>\n",
              "</div><br><label><b>dtype:</b> int64</label>"
            ]
          },
          "metadata": {},
          "execution_count": 60
        }
      ]
    },
    {
      "cell_type": "code",
      "source": [
        "emails_per_user = df['FROM'].value_counts()\n",
        "np.std(emails_per_user)\n",
        "#20"
      ],
      "metadata": {
        "colab": {
          "base_uri": "https://localhost:8080/",
          "height": 0
        },
        "id": "BTAo603iiQle",
        "outputId": "f71becd2-b83d-487a-a1c8-45100dffa3bb"
      },
      "execution_count": 66,
      "outputs": [
        {
          "output_type": "execute_result",
          "data": {
            "text/plain": [
              "829.2273593489443"
            ]
          },
          "metadata": {},
          "execution_count": 66
        }
      ]
    },
    {
      "cell_type": "code",
      "source": [
        "email_counts = df['FROM'].value_counts().to_numpy()\n",
        "np.median(email_counts)\n",
        "#21"
      ],
      "metadata": {
        "colab": {
          "base_uri": "https://localhost:8080/",
          "height": 0
        },
        "id": "vHl7rEL4ioIE",
        "outputId": "0cefcd2e-25f1-4ccc-ddf5-b9334e1bf897"
      },
      "execution_count": 67,
      "outputs": [
        {
          "output_type": "execute_result",
          "data": {
            "text/plain": [
              "np.float64(3.0)"
            ]
          },
          "metadata": {},
          "execution_count": 67
        }
      ]
    },
    {
      "cell_type": "code",
      "source": [
        "emails_per_user = df['FROM'].value_counts()\n",
        "np.std(emails_per_user)\n",
        "#22"
      ],
      "metadata": {
        "colab": {
          "base_uri": "https://localhost:8080/",
          "height": 0
        },
        "id": "rMNVbhtRippX",
        "outputId": "2ba87c1f-3ebc-4666-e2e1-0b6288dab949"
      },
      "execution_count": 68,
      "outputs": [
        {
          "output_type": "execute_result",
          "data": {
            "text/plain": [
              "829.2273593489443"
            ]
          },
          "metadata": {},
          "execution_count": 68
        }
      ]
    },
    {
      "cell_type": "code",
      "source": [
        "df['MID'].nunique()\n",
        "#23"
      ],
      "metadata": {
        "colab": {
          "base_uri": "https://localhost:8080/",
          "height": 0
        },
        "id": "wWebk4BDhjbm",
        "outputId": "6fcc064d-f808-4845-95f6-9ef0f8a41539"
      },
      "execution_count": 59,
      "outputs": [
        {
          "output_type": "execute_result",
          "data": {
            "text/plain": [
              "64755"
            ]
          },
          "metadata": {},
          "execution_count": 59
        }
      ]
    }
  ]
}